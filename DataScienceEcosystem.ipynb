{
 "cells": [
  {
   "cell_type": "markdown",
   "id": "6a6c5884",
   "metadata": {},
   "source": [
    "# Data Science Tools and Ecosystem"
   ]
  },
  {
   "cell_type": "markdown",
   "id": "8cf69adf",
   "metadata": {},
   "source": [
    "In this notebook,Data Science Tools and Ecosystem are summarized."
   ]
  },
  {
   "cell_type": "markdown",
   "id": "518e87c0",
   "metadata": {},
   "source": [
    "Some of the popular languages that Data Scientist use are:\n",
    "1.Python\n",
    "2.R\n",
    "3.SQL\n",
    "4.C++\n",
    "5.Java etc..;"
   ]
  },
  {
   "cell_type": "markdown",
   "id": "ecce8b82",
   "metadata": {},
   "source": [
    "Some of the commonly used libraries used by Data Scientists include:\n",
    "1.Tensorflow.\n",
    "2.NumPy.\n",
    "3.SciPy.\n",
    "4.Pandas.\n",
    "5.Matplotlib.\n",
    "6.Keras.\n",
    "7.Scikit-Learn.\n",
    "8.PyTorch etc..;"
   ]
  },
  {
   "cell_type": "markdown",
   "id": "bd5b407c",
   "metadata": {},
   "source": [
    "|Data Science Tools|\n",
    "|---|\n",
    "|SAS|\n",
    "|Apache Hadoop|\n",
    "|Tensorflow|"
   ]
  },
  {
   "cell_type": "markdown",
   "id": "8443a4be",
   "metadata": {},
   "source": [
    "### Below are a few examples of evaluating expressions in Python."
   ]
  },
  {
   "cell_type": "code",
   "execution_count": 16,
   "id": "1347e956",
   "metadata": {},
   "outputs": [
    {
     "data": {
      "text/plain": [
       "28"
      ]
     },
     "execution_count": 16,
     "metadata": {},
     "output_type": "execute_result"
    }
   ],
   "source": [
    "#This is a common arithmetic example to multiply and then add integers\n",
    "(4*5)+8"
   ]
  },
  {
   "cell_type": "code",
   "execution_count": 18,
   "id": "a51ea588",
   "metadata": {},
   "outputs": [
    {
     "data": {
      "text/plain": [
       "3.3333333333333335"
      ]
     },
     "execution_count": 18,
     "metadata": {},
     "output_type": "execute_result"
    }
   ],
   "source": [
    "#This will convert 200 minutes to hours by diving by 60.\n",
    "200/60"
   ]
  },
  {
   "cell_type": "markdown",
   "id": "c840e711",
   "metadata": {},
   "source": [
    "__Objective__\n",
    "* List popular languages for Data Science\n",
    "* List Popular libraries for Data Science\n",
    "* List of well known Data Science Tools\n",
    "* How to Provide comments in the cell"
   ]
  },
  {
   "cell_type": "markdown",
   "id": "8bd23823",
   "metadata": {},
   "source": [
    "### Author\n",
    "Soumadeep Mitra"
   ]
  }
 ],
 "metadata": {
  "kernelspec": {
   "display_name": "Python 3 (ipykernel)",
   "language": "python",
   "name": "python3"
  },
  "language_info": {
   "codemirror_mode": {
    "name": "ipython",
    "version": 3
   },
   "file_extension": ".py",
   "mimetype": "text/x-python",
   "name": "python",
   "nbconvert_exporter": "python",
   "pygments_lexer": "ipython3",
   "version": "3.10.9"
  }
 },
 "nbformat": 4,
 "nbformat_minor": 5
}
